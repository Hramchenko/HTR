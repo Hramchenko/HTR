{
  "nbformat": 4,
  "nbformat_minor": 0,
  "metadata": {
    "colab": {
      "name": "HTRTrainCNN.ipynb",
      "version": "0.3.2",
      "provenance": [],
      "collapsed_sections": [],
      "include_colab_link": true
    },
    "kernelspec": {
      "name": "python3",
      "display_name": "Python 3"
    },
    "accelerator": "GPU"
  },
  "cells": [
    {
      "cell_type": "markdown",
      "metadata": {
        "id": "view-in-github",
        "colab_type": "text"
      },
      "source": [
        "<a href=\"https://colab.research.google.com/github/Hramchenko/HTR/blob/master/HTRTrainCNN.ipynb\" target=\"_parent\"><img src=\"https://colab.research.google.com/assets/colab-badge.svg\" alt=\"Open In Colab\"/></a>"
      ]
    },
    {
      "metadata": {
        "id": "uL5QRz_WMkMF",
        "colab_type": "code",
        "outputId": "df025e6a-cf80-4db1-f025-53d5dc272917",
        "colab": {
          "base_uri": "https://localhost:8080/",
          "height": 52
        }
      },
      "cell_type": "code",
      "source": [
        "import torch\n",
        "print(\"Device \" + torch.cuda.get_device_name(0))\n",
        "device = torch.device(\"cuda:0\")\n",
        "#device = torch.device(\"cpu\")\n",
        "print(device)"
      ],
      "execution_count": 0,
      "outputs": [
        {
          "output_type": "stream",
          "text": [
            "Device Tesla K80\n",
            "cuda:0\n"
          ],
          "name": "stdout"
        }
      ]
    },
    {
      "metadata": {
        "id": "j5M_rV-VMqso",
        "colab_type": "code",
        "colab": {}
      },
      "cell_type": "code",
      "source": [
        "batch_size = 100\n",
        "\n",
        "image_width = 1000\n",
        "image_height = 200"
      ],
      "execution_count": 0,
      "outputs": []
    },
    {
      "metadata": {
        "id": "sqHNfBMaLYmd",
        "colab_type": "code",
        "colab": {}
      },
      "cell_type": "code",
      "source": [
        "import os\n",
        "import cv2\n",
        "from xml.dom import minidom\n",
        "import matplotlib.pyplot as plt\n",
        "from math import floor\n",
        "from random import random\n",
        "import scipy as sp\n",
        "import torch\n",
        "import torch.nn as nn\n",
        "import torch.nn.functional as F\n",
        "        "
      ],
      "execution_count": 0,
      "outputs": []
    },
    {
      "metadata": {
        "id": "kVeBVZEgMtb2",
        "colab_type": "code",
        "outputId": "0d70d05f-b7c6-42a4-c286-cf7a32da4346",
        "colab": {
          "base_uri": "https://localhost:8080/",
          "height": 87
        }
      },
      "cell_type": "code",
      "source": [
        "import sys\n",
        "sys.path.append(\"./HTR/\")\n",
        "from IAMWords import IAMWords\n",
        "\n",
        "\n",
        "pad_length=-1\n",
        "train_set = IAMWords(\"train\", \"./IAM/\", batch_size=batch_size, line_height=image_height, line_width=image_width, scale=1, pad_length=pad_length, rand_x=7)\n",
        "test_set = IAMWords(\"test\", \"./IAM/\", batch_size=batch_size, line_height=image_height, line_width=image_width, scale=1, pad_length=pad_length, rand_x=7)"
      ],
      "execution_count": 0,
      "outputs": [
        {
          "output_type": "stream",
          "text": [
            "Reading ./IAM/words.train.pkl...\n",
            "Reading finished\n",
            "Reading ./IAM/words.test.pkl...\n",
            "Reading finished\n"
          ],
          "name": "stdout"
        }
      ]
    },
    {
      "metadata": {
        "id": "aPROjYtaLvLS",
        "colab_type": "code",
        "colab": {}
      },
      "cell_type": "code",
      "source": [
        "from ArtificialHandwritting import ArtificialHandwritting\n",
        "artificial_data = ArtificialHandwritting(batch_size, \"./MyLetters/\", 1.0, image_width, image_height, train_set.encode_word)\n",
        "data, target = artificial_data.make_random_batch(3, 400)"
      ],
      "execution_count": 0,
      "outputs": []
    },
    {
      "metadata": {
        "id": "wceUSjfAWM1v",
        "colab_type": "code",
        "outputId": "c8d9713d-541e-4125-c23d-51be104c6cf0",
        "colab": {
          "base_uri": "https://localhost:8080/",
          "height": 136
        }
      },
      "cell_type": "code",
      "source": [
        "plt.imshow(data[0], cmap=\"gray\")\n",
        "plt.show()\n",
        "data.shape"
      ],
      "execution_count": 0,
      "outputs": [
        {
          "output_type": "display_data",
          "data": {
            "image/png": "[encoded data removed]",
            "text/plain": [
              "<Figure size 432x288 with 1 Axes>"
            ]
          },
          "metadata": {
            "tags": []
          }
        },
        {
          "output_type": "execute_result",
          "data": {
            "text/plain": [
              "torch.Size([100, 200, 1000])"
            ]
          },
          "metadata": {
            "tags": []
          },
          "execution_count": 7
        }
      ]
    },
    {
      "metadata": {
        "id": "K2fWx6tuK-4m",
        "colab_type": "code",
        "colab": {}
      },
      "cell_type": "code",
      "source": [
        "import torch\n",
        "import torch.nn as nn\n",
        "import torch.nn.functional as F\n",
        "import torch.optim as optim\n",
        "from IPython.core.debugger import set_trace\n",
        "%matplotlib inline\n",
        "import matplotlib.pyplot as plt"
      ],
      "execution_count": 0,
      "outputs": []
    },
    {
      "metadata": {
        "id": "FOlJkOzNgngX",
        "colab_type": "code",
        "colab": {}
      },
      "cell_type": "code",
      "source": [
        "from Layers import *\n",
        "from HTREncoder import *"
      ],
      "execution_count": 0,
      "outputs": []
    },
    {
      "metadata": {
        "id": "tNCy7E6BNI1t",
        "colab_type": "code",
        "colab": {}
      },
      "cell_type": "code",
      "source": [
        "batch = train_set.make_batch(use_binarization=False)\n",
        "data, target = batch\n",
        "target = target.to(device)\n",
        "data = data/255.0\n",
        "data = data.unsqueeze(1).to(device)"
      ],
      "execution_count": 0,
      "outputs": []
    },
    {
      "metadata": {
        "id": "68VQiNESFKjm",
        "colab_type": "code",
        "colab": {}
      },
      "cell_type": "code",
      "source": [
        "encoder = HTREncoder().to(device)"
      ],
      "execution_count": 0,
      "outputs": []
    },
    {
      "metadata": {
        "id": "3fvJufA-1d9O",
        "colab_type": "code",
        "outputId": "febfc1b2-e4e1-4afd-d760-856ef384c132",
        "colab": {
          "base_uri": "https://localhost:8080/",
          "height": 34
        }
      },
      "cell_type": "code",
      "source": [
        "c = encoder(data)\n",
        "c.shape"
      ],
      "execution_count": 0,
      "outputs": [
        {
          "output_type": "execute_result",
          "data": {
            "text/plain": [
              "torch.Size([100, 64, 122])"
            ]
          },
          "metadata": {
            "tags": []
          },
          "execution_count": 13
        }
      ]
    },
    {
      "metadata": {
        "id": "KyHlpeQ1WuoI",
        "colab_type": "code",
        "colab": {}
      },
      "cell_type": "code",
      "source": [
        "class FCDecoder(nn.Module):\n",
        "  def __init__(self):\n",
        "    super(FCDecoder, self).__init__()\n",
        "    encoded_width = 122\n",
        "    encoded_height = 64\n",
        "    encoded_size = encoded_width*encoded_height\n",
        "    symbols_count = len(train_set.codes)\n",
        "    from math import floor\n",
        "    self.fc = FullyConnectedX([encoded_size, floor(encoded_size*0.7)], activation_fn=nn.LeakyReLU(0.2), last_fn=nn.LeakyReLU(0.2))\n",
        "    self.fc2 = FullyConnectedX([floor(encoded_size*0.7), floor(encoded_size*0.3), symbols_count], activation_fn=nn.LeakyReLU(0.2), last_fn=nn.Tanh())\n",
        "    self.bn = nn.BatchNorm1d(floor(encoded_size*0.7))\n",
        "    \n",
        "  def forward(self, x):\n",
        "    x = self.fc(x)\n",
        "    x = self.bn(x)\n",
        "    x = self.fc2(x)\n",
        "    x = F.log_softmax(x, dim=1)\n",
        "    return x\n",
        "\n"
      ],
      "execution_count": 0,
      "outputs": []
    },
    {
      "metadata": {
        "id": "2P3eeqqEeEqp",
        "colab_type": "code",
        "colab": {}
      },
      "cell_type": "code",
      "source": [
        "encoder_fc = FCDecoder().to(device)\n",
        "cnn_optimizer = optim.Adam(encoder.parameters(), lr=1e-4, weight_decay=0.00005)\n",
        "fc_optimizer = optim.Adam(encoder_fc.parameters(), lr=1e-4, weight_decay=0.00005)\n",
        "criterion = nn.NLLLoss()\n",
        "randx = 900"
      ],
      "execution_count": 0,
      "outputs": []
    },
    {
      "metadata": {
        "id": "FTSmnINja6Q-",
        "colab_type": "code",
        "outputId": "008693f5-2196-4b48-e401-5268ad8bb76a",
        "colab": {
          "base_uri": "https://localhost:8080/",
          "height": 2129
        }
      },
      "cell_type": "code",
      "source": [
        "recognition_result = torch.LongTensor(batch_size, 1).to(device)\n",
        "\n",
        "for i in range(0, 2000):\n",
        "    data, target = artificial_data.make_random_batch(1, randx)\n",
        "    data = data.unsqueeze(1).to(device)\n",
        "    target = target.to(device)\n",
        "    cnn_optimizer.zero_grad()\n",
        "    fc_optimizer.zero_grad()\n",
        "    enc = encoder(data)\n",
        "    enc = enc.flatten(start_dim=1)\n",
        "    symb = encoder_fc(enc)\n",
        "    loss = criterion(symb, target[:, 0])\n",
        "    if i % 50 == 0:\n",
        "      recognition_result[:,0] = symb.topk(1, dim=1)[1].flatten().detach()\n",
        "      for i in range(0, 5):\n",
        "        t = test_set.decode_word(target[i,:])\n",
        "        r = test_set.decode_word(recognition_result[i,:])\n",
        "        print(t + \"->\" + r)\n",
        "      print(loss.item())\n",
        "    loss.backward()\n",
        "    cnn_optimizer.step()\n",
        "    fc_optimizer.step()"
      ],
      "execution_count": 0,
      "outputs": [
        {
          "output_type": "stream",
          "text": [
            "f->q\n",
            "q->q\n",
            "a->a\n",
            "r->r\n",
            "b->b\n",
            "2.6310861110687256\n",
            "h->h\n",
            "m->m\n",
            "h->u\n",
            "e->e\n",
            "b->b\n",
            "2.622636079788208\n",
            "g->g\n",
            "z->z\n",
            "v->y\n",
            "k->k\n",
            "l->t\n",
            "2.6252410411834717\n",
            "m->w\n",
            "m->m\n",
            "w->h\n",
            "k->h\n",
            "z->z\n",
            "2.629223108291626\n",
            "h->h\n",
            "q->q\n",
            "w->h\n",
            "f->f\n",
            "y->w\n",
            "2.6085665225982666\n",
            "h->u\n",
            "j->j\n",
            "c->e\n",
            "l->l\n",
            "b->b\n",
            "2.6162166595458984\n",
            "g->g\n",
            "v->v\n",
            "g->g\n",
            "c->e\n",
            "d->d\n",
            "2.5939812660217285\n",
            "d->d\n",
            "x->s\n",
            "p->p\n",
            "h->h\n",
            "z->z\n",
            "2.598590612411499\n",
            "g->d\n",
            "d->d\n",
            "k->h\n",
            "k->h\n",
            "o->o\n",
            "2.6026787757873535\n",
            "w->w\n",
            "q->d\n",
            "r->r\n",
            "c->e\n",
            "u->h\n",
            "2.5790352821350098\n",
            "p->g\n",
            "h->h\n",
            "q->q\n",
            "z->z\n",
            "v->v\n",
            "2.597132921218872\n",
            "z->z\n",
            "f->l\n",
            "h->h\n",
            "z->z\n",
            "h->h\n",
            "2.553447961807251\n",
            "t->l\n",
            "p->p\n",
            "p->p\n",
            "z->z\n",
            "v->v\n",
            "2.541186571121216\n",
            "e->e\n",
            "b->b\n",
            "x->x\n",
            "a->a\n",
            "k->h\n",
            "2.5517826080322266\n",
            "c->c\n",
            "a->a\n",
            "w->w\n",
            "p->p\n",
            "k->h\n",
            "2.579864501953125\n",
            "e->e\n",
            "g->g\n",
            "o->o\n",
            "h->h\n",
            "x->x\n",
            "2.5378713607788086\n",
            "i->i\n",
            "i->i\n",
            "l->l\n",
            "j->j\n",
            "i->i\n",
            "2.5448856353759766\n",
            "k->k\n",
            "n->x\n",
            "q->q\n",
            "o->o\n",
            "c->c\n",
            "2.5445191860198975\n",
            "i->i\n",
            "f->f\n",
            "g->g\n",
            "h->h\n",
            "r->s\n",
            "2.540536403656006\n",
            "c->e\n",
            "w->w\n",
            "w->w\n",
            "w->h\n",
            "v->y\n",
            "2.5518453121185303\n"
          ],
          "name": "stdout"
        }
      ]
    },
    {
      "metadata": {
        "id": "esw2RB0GmbRL",
        "colab_type": "code",
        "outputId": "43731030-65f6-4fe2-aadd-85581f52c8a8",
        "colab": {
          "base_uri": "https://localhost:8080/",
          "height": 34
        }
      },
      "cell_type": "code",
      "source": [
        "def save_cnn(file_name):\n",
        "  state_dict = {\n",
        "        \"encoder\": encoder.state_dict()\n",
        "      }\n",
        "  torch.save(state_dict, file_name)\n",
        "  print(\"Network saved: %s\" %file_name)\n",
        "save_cnn(\"/gdrive/My Drive/cnn.tar\")"
      ],
      "execution_count": 0,
      "outputs": [
        {
          "output_type": "stream",
          "text": [
            "Network saved: /gdrive/My Drive/cnn.tar\n"
          ],
          "name": "stdout"
        }
      ]
    }
  ]
}